{
 "cells": [
  {
   "cell_type": "code",
   "execution_count": null,
   "metadata": {},
   "outputs": [],
   "source": [
    "#载入环境\n",
    "import pandas as pd\n",
    "import numpy as np\n",
    "import matplotlib.pyplot as plt\n",
    "import seaborn as sns\n",
    "\n",
    "from tensorflow import keras\n",
    "from sklearn.model_selection import train_test_split\n",
    "from sklearn.metrics import confusion_matrix\n",
    "\n",
    "from keras.utils.np_utils import to_categorical\n",
    "from keras.models import Sequential\n",
    "from keras.layers import Dense,Conv2D,Flatten,MaxPool2D,Dropout\n",
    "from keras.optimizers import Adam"
   ]
  },
  {
   "cell_type": "code",
   "execution_count": null,
   "metadata": {},
   "outputs": [],
   "source": [
    "#读取文件\n",
    "train = pd.read_csv('D:/MNIST/train.csv')\n",
    "validate = pd.read_csv('D:/MNIST/Dig-MNIST.csv')"
   ]
  },
  {
   "cell_type": "code",
   "execution_count": null,
   "metadata": {},
   "outputs": [],
   "source": [
    "#检查形状\n"
   ]
  },
  {
   "cell_type": "code",
   "execution_count": null,
   "metadata": {},
   "outputs": [],
   "source": [
    "#可视化检查数据分布\n"
   ]
  },
  {
   "cell_type": "code",
   "execution_count": null,
   "metadata": {},
   "outputs": [],
   "source": [
    "#观察是否均匀\n",
    "y = train.label.value_counts()\n",
    "sns.barplot(y.index, y)"
   ]
  },
  {
   "cell_type": "code",
   "execution_count": null,
   "metadata": {},
   "outputs": [],
   "source": [
    "#分离训练数据和标签\n",
    "train_images = train.drop('label', axis = 1)\n",
    "train_labels = train.label\n",
    "val_images = validate.drop('label', axis = 1)\n",
    "val_labels = validate.label"
   ]
  },
  {
   "cell_type": "code",
   "execution_count": null,
   "metadata": {},
   "outputs": [],
   "source": [
    "#归一化处理\n",
    "train_images = train_images / 255\n",
    "val_images = val_images / 255   "
   ]
  },
  {
   "cell_type": "code",
   "execution_count": null,
   "metadata": {},
   "outputs": [],
   "source": [
    "#reshape图像数据，使得TensorFlow可以识别\n",
    "train_images = train_images.values.reshape(-1, 28, 28, 1)\n",
    "val_images = val_images.values.reshape(-1, 28, 28, 1)"
   ]
  },
  {
   "cell_type": "code",
   "execution_count": null,
   "metadata": {},
   "outputs": [],
   "source": [
    "#reshape的结果\n",
    "plt.figure()\n",
    "for i in range(4):\n",
    "    plt.subplot(2, 2, i+1)\n",
    "    plt.imshow(train_images[i][:, :, 0])\n",
    "plt.show()"
   ]
  },
  {
   "cell_type": "code",
   "execution_count": null,
   "metadata": {},
   "outputs": [],
   "source": [
    "#编码化label\n",
    "train_labels = to_categorical(train_labels)\n",
    "val_labels = to_categorical(val_labels) "
   ]
  },
  {
   "cell_type": "code",
   "execution_count": null,
   "metadata": {},
   "outputs": [],
   "source": [
    "#从训练数据中分离训练集和测试集\n",
    "train_images,test_images,train_labels,test_labels = train_test_split(train_images, train_labels, \n",
    "                                                                     random_state = 0, test_size = 0.2)"
   ]
  },
  {
   "cell_type": "code",
   "execution_count": null,
   "metadata": {},
   "outputs": [],
   "source": [
    "#建立模型\n"
   ]
  },
  {
   "cell_type": "code",
   "execution_count": null,
   "metadata": {},
   "outputs": [],
   "source": [
    "#检查模型\n",
    "model.summary()"
   ]
  },
  {
   "cell_type": "code",
   "execution_count": null,
   "metadata": {},
   "outputs": [],
   "source": [
    "#设置优化器\n",
    "optimizer = Adam(learning_rate = 0.001, beta_1 = 0.9, beta_2 = 0.999)\n",
    "model.compile(optimizer = optimizer, loss = ['categorical_crossentropy'],\n",
    "             metrics = ['accuracy'])"
   ]
  },
  {
   "cell_type": "code",
   "execution_count": null,
   "metadata": {},
   "outputs": [],
   "source": [
    "#设置训练参数\n",
    "epochs = \n",
    "batch_size = "
   ]
  },
  {
   "cell_type": "code",
   "execution_count": null,
   "metadata": {
    "scrolled": true
   },
   "outputs": [],
   "source": [
    "#训练模型并记录训练结果\n",
    "history = model.fit(train_images, train_labels,\n",
    "                   batch_size = batch_size, epochs = epochs)"
   ]
  },
  {
   "cell_type": "code",
   "execution_count": null,
   "metadata": {},
   "outputs": [],
   "source": [
    "#%%准确率可视化\n",
    "fig,ax = plt.subplots(2, 1)\n",
    "fig.set\n",
    "x = range(1,1 + epochs)\n",
    "ax[0].plot(x,history.history['loss'],color = 'red')\n",
    "\n",
    "ax[1].plot(x,history.history['accuracy'],color = 'blue')\n",
    "\n",
    "plt.xlabel('Number of epochs')\n",
    "plt.ylabel('accuracy')"
   ]
  },
  {
   "cell_type": "code",
   "execution_count": null,
   "metadata": {},
   "outputs": [],
   "source": [
    "#用validate数据集验证模型效果\n",
    "prediction = model.predict(val_images)\n",
    "prediction = np.argmax(prediction, axis = 1) \n",
    "true_label = np.argmax(val_labels, axis = 1) "
   ]
  },
  {
   "cell_type": "code",
   "execution_count": null,
   "metadata": {},
   "outputs": [],
   "source": [
    "#计算confusion matrix\n",
    "cm = confusion_matrix(true_label, prediction)\n",
    "cm = pd.DataFrame(cm,index=range(0,10),columns=range(0,10))\n",
    "print(cm)"
   ]
  },
  {
   "cell_type": "code",
   "execution_count": null,
   "metadata": {},
   "outputs": [],
   "source": [
    "#计算是否正确\n",
    "pre_result = (prediction - true_label == 0).tolist()"
   ]
  },
  {
   "cell_type": "code",
   "execution_count": null,
   "metadata": {},
   "outputs": [],
   "source": [
    "#查看一个正确的和一个错误的结果\n",
    "for i in range(len(pre_result)):\n",
    "    if pre_result[i] == True:\n",
    "        plt.figure()\n",
    "        plt.imshow(val_images[i][:, :, 0])\n",
    "        plt.title('True label: ' + str(true_label[i]) + ' and predicted: ' + str(prediction[i]))\n",
    "        break\n",
    "\n",
    "for i in range(len(pre_result)):\n",
    "    if pre_result[i] == False:\n",
    "        plt.figure()\n",
    "        plt.imshow(val_images[i][:, :, 0])\n",
    "        plt.title('True label: ' + str(true_label[i]) + ' but predicted: ' + str(prediction[i]))\n",
    "        break"
   ]
  }
 ],
 "metadata": {
  "kernelspec": {
   "display_name": "Python 3",
   "language": "python",
   "name": "python3"
  },
  "language_info": {
   "codemirror_mode": {
    "name": "ipython",
    "version": 3
   },
   "file_extension": ".py",
   "mimetype": "text/x-python",
   "name": "python",
   "nbconvert_exporter": "python",
   "pygments_lexer": "ipython3",
   "version": "3.7.9"
  }
 },
 "nbformat": 4,
 "nbformat_minor": 4
}
